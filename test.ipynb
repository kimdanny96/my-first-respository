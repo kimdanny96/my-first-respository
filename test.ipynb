{
  "nbformat": 4,
  "nbformat_minor": 0,
  "metadata": {
    "colab": {
      "name": "test.ipynb",
      "provenance": [],
      "mount_file_id": "1mONCyg5kzjYfnqH_KhX36ZOuaaSHP8nC",
      "authorship_tag": "ABX9TyO9hvwgBZ7sX785A5LsEhnI",
      "include_colab_link": true
    },
    "kernelspec": {
      "name": "python3",
      "display_name": "Python 3"
    }
  },
  "cells": [
    {
      "cell_type": "markdown",
      "metadata": {
        "id": "view-in-github",
        "colab_type": "text"
      },
      "source": [
        "<a href=\"https://colab.research.google.com/github/kimdanny96/my-first-respository/blob/main/test.ipynb\" target=\"_parent\"><img src=\"https://colab.research.google.com/assets/colab-badge.svg\" alt=\"Open In Colab\"/></a>"
      ]
    },
    {
      "cell_type": "code",
      "metadata": {
        "id": "WMM97j8GHhRt",
        "colab": {
          "base_uri": "https://localhost:8080/"
        },
        "outputId": "8d1e00ff-f4fd-439c-eed7-14fe32a5b92a"
      },
      "source": [
        "print(\"Hello HUFS\")"
      ],
      "execution_count": null,
      "outputs": [
        {
          "output_type": "stream",
          "text": [
            "Hello HUFS\n"
          ],
          "name": "stdout"
        }
      ]
    },
    {
      "cell_type": "code",
      "metadata": {
        "colab": {
          "base_uri": "https://localhost:8080/"
        },
        "id": "myyQ_nYVIH44",
        "outputId": "0c06e3f5-f135-4db3-e037-29f62908288b"
      },
      "source": [
        "a=1\n",
        "b=2\n",
        "print(a+b) \n",
        "\n",
        "c=3\n",
        "d=4\n",
        "c+d"
      ],
      "execution_count": null,
      "outputs": [
        {
          "output_type": "stream",
          "text": [
            "3\n"
          ],
          "name": "stdout"
        },
        {
          "output_type": "execute_result",
          "data": {
            "text/plain": [
              "7"
            ]
          },
          "metadata": {
            "tags": []
          },
          "execution_count": 3
        }
      ]
    },
    {
      "cell_type": "code",
      "metadata": {
        "id": "VykLfRuuIZRr",
        "colab": {
          "base_uri": "https://localhost:8080/"
        },
        "outputId": "dd2140bc-cb76-4c4f-fceb-da134570dba4"
      },
      "source": [
        "! git clone https://github.com/kimdanny96/my-first-respository.git"
      ],
      "execution_count": 1,
      "outputs": [
        {
          "output_type": "stream",
          "text": [
            "Cloning into 'my-first-respository'...\n",
            "remote: Enumerating objects: 15, done.\u001b[K\n",
            "remote: Counting objects: 100% (15/15), done.\u001b[K\n",
            "remote: Compressing objects: 100% (11/11), done.\u001b[K\n",
            "remote: Total 15 (delta 4), reused 5 (delta 0), pack-reused 0\u001b[K\n",
            "Unpacking objects: 100% (15/15), done.\n"
          ],
          "name": "stdout"
        }
      ]
    },
    {
      "cell_type": "code",
      "metadata": {
        "id": "Lm22ZOcKKu9D"
      },
      "source": [
        ""
      ],
      "execution_count": null,
      "outputs": []
    }
  ]
}